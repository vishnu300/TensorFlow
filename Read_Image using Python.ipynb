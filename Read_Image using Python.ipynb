{
 "cells": [
  {
   "cell_type": "markdown",
   "id": "261bbadc",
   "metadata": {},
   "source": [
    " # OPENCV PYTHOn"
   ]
  },
  {
   "cell_type": "code",
   "execution_count": 4,
   "id": "0ab14a31",
   "metadata": {
    "scrolled": true
   },
   "outputs": [
    {
     "name": "stdout",
     "output_type": "stream",
     "text": [
      "Collecting opencv-python\n",
      "  Obtaining dependency information for opencv-python from https://files.pythonhosted.org/packages/c7/ec/9dabb6a9abfdebb3c45b0cc52dec901caafef2b2c7e7d6a839ed86d81e91/opencv_python-4.9.0.80-cp37-abi3-win_amd64.whl.metadata\n",
      "  Downloading opencv_python-4.9.0.80-cp37-abi3-win_amd64.whl.metadata (20 kB)\n",
      "Requirement already satisfied: numpy>=1.21.2 in c:\\users\\dell\\anaconda3\\lib\\site-packages (from opencv-python) (1.24.3)\n",
      "Downloading opencv_python-4.9.0.80-cp37-abi3-win_amd64.whl (38.6 MB)\n",
      "   ---------------------------------------- 0.0/38.6 MB ? eta -:--:--\n",
      "   ---------------------------------------- 0.0/38.6 MB 1.4 MB/s eta 0:00:29\n",
      "   ---------------------------------------- 0.1/38.6 MB 1.1 MB/s eta 0:00:37\n",
      "   ---------------------------------------- 0.2/38.6 MB 1.6 MB/s eta 0:00:25\n",
      "   ---------------------------------------- 0.5/38.6 MB 2.6 MB/s eta 0:00:15\n",
      "    --------------------------------------- 0.9/38.6 MB 3.8 MB/s eta 0:00:10\n",
      "   - -------------------------------------- 1.6/38.6 MB 6.1 MB/s eta 0:00:07\n",
      "   -- ------------------------------------- 2.8/38.6 MB 8.6 MB/s eta 0:00:05\n",
      "   ---- ----------------------------------- 4.5/38.6 MB 12.4 MB/s eta 0:00:03\n",
      "   ----- ---------------------------------- 4.9/38.6 MB 12.4 MB/s eta 0:00:03\n",
      "   ------ --------------------------------- 5.9/38.6 MB 12.9 MB/s eta 0:00:03\n",
      "   ------ --------------------------------- 6.5/38.6 MB 13.4 MB/s eta 0:00:03\n",
      "   ------- -------------------------------- 7.0/38.6 MB 12.4 MB/s eta 0:00:03\n",
      "   --------- ------------------------------ 9.3/38.6 MB 15.2 MB/s eta 0:00:02\n",
      "   ------------ --------------------------- 12.0/38.6 MB 27.3 MB/s eta 0:00:01\n",
      "   ------------- -------------------------- 13.0/38.6 MB 26.2 MB/s eta 0:00:01\n",
      "   -------------- ------------------------- 13.9/38.6 MB 25.2 MB/s eta 0:00:01\n",
      "   --------------- ------------------------ 14.9/38.6 MB 24.2 MB/s eta 0:00:01\n",
      "   ---------------- ----------------------- 15.5/38.6 MB 27.3 MB/s eta 0:00:01\n",
      "   ----------------- ---------------------- 16.6/38.6 MB 24.3 MB/s eta 0:00:01\n",
      "   ----------------- ---------------------- 16.6/38.6 MB 22.6 MB/s eta 0:00:01\n",
      "   ------------------ --------------------- 17.5/38.6 MB 24.2 MB/s eta 0:00:01\n",
      "   ------------------- -------------------- 18.5/38.6 MB 21.8 MB/s eta 0:00:01\n",
      "   -------------------- ------------------- 19.5/38.6 MB 21.8 MB/s eta 0:00:01\n",
      "   --------------------- ------------------ 20.5/38.6 MB 20.5 MB/s eta 0:00:01\n",
      "   ---------------------- ----------------- 21.5/38.6 MB 18.7 MB/s eta 0:00:01\n",
      "   ----------------------- ---------------- 22.5/38.6 MB 18.2 MB/s eta 0:00:01\n",
      "   ------------------------ --------------- 23.5/38.6 MB 18.7 MB/s eta 0:00:01\n",
      "   ------------------------- -------------- 24.5/38.6 MB 18.7 MB/s eta 0:00:01\n",
      "   -------------------------- ------------- 25.5/38.6 MB 18.7 MB/s eta 0:00:01\n",
      "   --------------------------- ------------ 26.4/38.6 MB 19.3 MB/s eta 0:00:01\n",
      "   ---------------------------- ----------- 27.4/38.6 MB 21.1 MB/s eta 0:00:01\n",
      "   ----------------------------- ---------- 28.5/38.6 MB 21.1 MB/s eta 0:00:01\n",
      "   ------------------------------ --------- 29.6/38.6 MB 21.1 MB/s eta 0:00:01\n",
      "   ------------------------------- -------- 30.6/38.6 MB 20.5 MB/s eta 0:00:01\n",
      "   -------------------------------- ------- 31.5/38.6 MB 21.1 MB/s eta 0:00:01\n",
      "   --------------------------------- ------ 32.5/38.6 MB 21.1 MB/s eta 0:00:01\n",
      "   ---------------------------------- ----- 33.6/38.6 MB 21.8 MB/s eta 0:00:01\n",
      "   ----------------------------------- ---- 34.7/38.6 MB 21.1 MB/s eta 0:00:01\n",
      "   ------------------------------------ --- 35.7/38.6 MB 21.1 MB/s eta 0:00:01\n",
      "   -------------------------------------- - 36.7/38.6 MB 21.9 MB/s eta 0:00:01\n",
      "   ---------------------------------------  37.8/38.6 MB 21.9 MB/s eta 0:00:01\n",
      "   ---------------------------------------  38.6/38.6 MB 21.8 MB/s eta 0:00:01\n",
      "   ---------------------------------------  38.6/38.6 MB 21.8 MB/s eta 0:00:01\n",
      "   ---------------------------------------- 38.6/38.6 MB 18.2 MB/s eta 0:00:00\n",
      "Installing collected packages: opencv-python\n",
      "Successfully installed opencv-python-4.9.0.80\n",
      "Note: you may need to restart the kernel to use updated packages.\n"
     ]
    }
   ],
   "source": [
    "pip install opencv-python"
   ]
  },
  {
   "cell_type": "code",
   "execution_count": null,
   "id": "7c3f19b7",
   "metadata": {},
   "outputs": [],
   "source": [
    "#---------------------------------------------------------------------------------------------------------------------"
   ]
  },
  {
   "cell_type": "code",
   "execution_count": 4,
   "id": "c0afbb3f",
   "metadata": {},
   "outputs": [],
   "source": [
    "import cv2\n",
    "\n",
    "# Load an image\n",
    "img = cv2.imread(\"C:/Users/DELL/Pictures/Screenshots/Screenshot 2024-01-08 123852.png\")\n",
    "\n",
    "# Convert the image to grayscale\n",
    "gray = cv2.cvtColor(img, cv2.COLOR_BGR2GRAY)\n",
    "\n",
    "# Display the image\n",
    "cv2.imshow('Image', gray)\n",
    "\n",
    "# Wait for a key press\n",
    "cv2.waitKey(0)\n",
    "\n",
    "# Close the window\n",
    "cv2.destroyAllWindows()"
   ]
  },
  {
   "cell_type": "code",
   "execution_count": null,
   "id": "aab40bdb",
   "metadata": {},
   "outputs": [],
   "source": []
  },
  {
   "cell_type": "code",
   "execution_count": null,
   "id": "fa02b895",
   "metadata": {},
   "outputs": [],
   "source": []
  },
  {
   "cell_type": "code",
   "execution_count": null,
   "id": "7e88195c",
   "metadata": {},
   "outputs": [],
   "source": []
  }
 ],
 "metadata": {
  "kernelspec": {
   "display_name": "Python 3 (ipykernel)",
   "language": "python",
   "name": "python3"
  },
  "language_info": {
   "codemirror_mode": {
    "name": "ipython",
    "version": 3
   },
   "file_extension": ".py",
   "mimetype": "text/x-python",
   "name": "python",
   "nbconvert_exporter": "python",
   "pygments_lexer": "ipython3",
   "version": "3.11.5"
  }
 },
 "nbformat": 4,
 "nbformat_minor": 5
}
